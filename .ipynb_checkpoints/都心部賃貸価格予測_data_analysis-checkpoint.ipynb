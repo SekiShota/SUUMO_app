{
 "cells": [
  {
   "cell_type": "code",
   "execution_count": 25,
   "id": "3d243913",
   "metadata": {},
   "outputs": [],
   "source": [
    "import pandas as pd\n",
    "import numpy as np\n",
    "import matplotlib.pyplot as plt\n",
    "import seaborn as sns\n",
    "import japanize_matplotlib"
   ]
  },
  {
   "cell_type": "code",
   "execution_count": 2,
   "id": "48e53a93",
   "metadata": {},
   "outputs": [
    {
     "data": {
      "text/plain": [
       "(61108, 16)"
      ]
     },
     "execution_count": 2,
     "metadata": {},
     "output_type": "execute_result"
    }
   ],
   "source": [
    "_df=pd.read_csv('preprocessed_data_city.csv')\n",
    "_df.shape"
   ]
  },
  {
   "cell_type": "code",
   "execution_count": 3,
   "id": "348f1da8",
   "metadata": {},
   "outputs": [
    {
     "name": "stdout",
     "output_type": "stream",
     "text": [
      "<class 'pandas.core.frame.DataFrame'>\n",
      "RangeIndex: 61108 entries, 0 to 61107\n",
      "Data columns (total 16 columns):\n",
      " #   Column  Non-Null Count  Dtype  \n",
      "---  ------  --------------  -----  \n",
      " 0   物件名     61108 non-null  object \n",
      " 1   カテゴリー   61108 non-null  object \n",
      " 2   築年数     61108 non-null  int64  \n",
      " 3   構造      61108 non-null  int64  \n",
      " 4   階数      61108 non-null  int64  \n",
      " 5   賃料      61108 non-null  float64\n",
      " 6   管理費     61108 non-null  float64\n",
      " 7   敷金      61108 non-null  float64\n",
      " 8   礼金      61108 non-null  float64\n",
      " 9   間取り     61108 non-null  object \n",
      " 10  面積      61108 non-null  float64\n",
      " 11  23区     61108 non-null  object \n",
      " 12  都市名     61108 non-null  object \n",
      " 13  路線      61108 non-null  object \n",
      " 14  最寄駅     61108 non-null  object \n",
      " 15  徒歩      61108 non-null  int64  \n",
      "dtypes: float64(5), int64(4), object(7)\n",
      "memory usage: 7.5+ MB\n"
     ]
    }
   ],
   "source": [
    "_df.info()"
   ]
  },
  {
   "cell_type": "code",
   "execution_count": 4,
   "id": "5bd382dc",
   "metadata": {},
   "outputs": [
    {
     "data": {
      "text/plain": [
       "Index(['物件名', 'カテゴリー', '築年数', '構造', '階数', '賃料', '管理費', '敷金', '礼金', '間取り', '面積',\n",
       "       '23区', '都市名', '路線', '最寄駅', '徒歩'],\n",
       "      dtype='object')"
      ]
     },
     "execution_count": 4,
     "metadata": {},
     "output_type": "execute_result"
    }
   ],
   "source": [
    "_df.columns"
   ]
  },
  {
   "cell_type": "code",
   "execution_count": 6,
   "id": "4ff88dbc",
   "metadata": {},
   "outputs": [
    {
     "name": "stdout",
     "output_type": "stream",
     "text": [
      "<class 'pandas.core.frame.DataFrame'>\n",
      "RangeIndex: 61108 entries, 0 to 61107\n",
      "Data columns (total 16 columns):\n",
      " #   Column  Non-Null Count  Dtype   \n",
      "---  ------  --------------  -----   \n",
      " 0   物件名     61108 non-null  object  \n",
      " 1   カテゴリー   61108 non-null  category\n",
      " 2   築年数     61108 non-null  int64   \n",
      " 3   構造      61108 non-null  int64   \n",
      " 4   階数      61108 non-null  int64   \n",
      " 5   賃料      61108 non-null  float64 \n",
      " 6   管理費     61108 non-null  float64 \n",
      " 7   敷金      61108 non-null  float64 \n",
      " 8   礼金      61108 non-null  float64 \n",
      " 9   間取り     61108 non-null  category\n",
      " 10  面積      61108 non-null  float64 \n",
      " 11  23区     61108 non-null  category\n",
      " 12  都市名     61108 non-null  category\n",
      " 13  路線      61108 non-null  category\n",
      " 14  最寄駅     61108 non-null  category\n",
      " 15  徒歩      61108 non-null  int64   \n",
      "dtypes: category(6), float64(5), int64(4), object(1)\n",
      "memory usage: 5.2+ MB\n"
     ]
    }
   ],
   "source": [
    "df_cols=['カテゴリー', '間取り', '23区', '都市名', '路線', '最寄駅']\n",
    "df=_df.copy()\n",
    "\n",
    "for col in df_cols:\n",
    "    df[col]=_df[col].astype('category')\n",
    "    \n",
    "df.info()"
   ]
  },
  {
   "cell_type": "code",
   "execution_count": 13,
   "id": "3940cc37",
   "metadata": {},
   "outputs": [],
   "source": [
    "import pprint"
   ]
  },
  {
   "cell_type": "code",
   "execution_count": 21,
   "id": "bbcf4f0c",
   "metadata": {},
   "outputs": [
    {
     "name": "stdout",
     "output_type": "stream",
     "text": [
      "品川区\n",
      "賃料平均： 108975.68739942629\n",
      "1Kの賃料平均： 85935.30982155402\n",
      "\n",
      "新宿区\n",
      "賃料平均： 121618.9504950495\n",
      "1Kの賃料平均： 94466.20303756994\n",
      "\n",
      "港区\n",
      "賃料平均： 195698.24859717736\n",
      "1Kの賃料平均： 111737.40035429584\n",
      "\n",
      "目黒区\n",
      "賃料平均： 117423.38972023422\n",
      "1Kの賃料平均： 88570.88495575222\n",
      "\n",
      "渋谷区\n",
      "賃料平均： 151663.57082670162\n",
      "1Kの賃料平均： 98399.87380111055\n",
      "\n"
     ]
    }
   ],
   "source": [
    "### 23区別の家賃の平均\n",
    "wards=df['23区'].unique()\n",
    "\n",
    "for ward in wards:\n",
    "    df_tmp=df[df['23区']==ward]\n",
    "    \n",
    "    print(ward)\n",
    "    print('賃料平均：', df_tmp['賃料'].mean())\n",
    "    print('1Kの賃料平均：', df_tmp[df_tmp['間取り']=='1K']['賃料'].mean())\n",
    "    print()\n",
    "    "
   ]
  },
  {
   "cell_type": "code",
   "execution_count": 28,
   "id": "ccd05aab",
   "metadata": {},
   "outputs": [
    {
     "data": {
      "image/png": "[encoded data removed]",
      "text/plain": [
       "<Figure size 576x576 with 2 Axes>"
      ]
     },
     "metadata": {
      "needs_background": "light"
     },
     "output_type": "display_data"
    }
   ],
   "source": [
    "plt.figure(figsize=(8,8))\n",
    "df_n=df[['築年数', '構造', '階数', '賃料', '管理費', '敷金', '礼金', '面積', '徒歩']]\n",
    "sns.heatmap(data=df_n.corr(), annot=True)\n",
    "plt.show()"
   ]
  },
  {
   "cell_type": "code",
   "execution_count": 31,
   "id": "a4a1ffbe",
   "metadata": {},
   "outputs": [
    {
     "data": {
      "text/plain": [
       "階数\n",
       "1     1.181993e+05\n",
       "2     1.181726e+05\n",
       "3     1.279651e+05\n",
       "4     1.364394e+05\n",
       "5     1.434847e+05\n",
       "6     1.464608e+05\n",
       "7     1.399374e+05\n",
       "8     1.459809e+05\n",
       "9     1.507131e+05\n",
       "10    1.633822e+05\n",
       "11    1.583767e+05\n",
       "12    1.674844e+05\n",
       "13    1.992379e+05\n",
       "14    1.951291e+05\n",
       "15    2.487221e+05\n",
       "16    3.686429e+05\n",
       "17    3.060683e+05\n",
       "18    3.329135e+05\n",
       "19    3.759716e+05\n",
       "20    4.345632e+05\n",
       "21    3.749588e+05\n",
       "22    4.479091e+05\n",
       "23    5.559270e+05\n",
       "24    4.324333e+05\n",
       "25    5.138792e+05\n",
       "26    4.131732e+05\n",
       "27    6.608049e+05\n",
       "28    3.596333e+05\n",
       "29    3.705026e+05\n",
       "30    5.252258e+05\n",
       "31    4.635556e+05\n",
       "32    5.451111e+05\n",
       "33    3.884000e+05\n",
       "34    4.172143e+05\n",
       "35    4.855950e+05\n",
       "36    4.996667e+05\n",
       "37    4.648000e+05\n",
       "38    4.282857e+05\n",
       "39    6.230588e+05\n",
       "40    7.833615e+05\n",
       "41    3.692500e+05\n",
       "42    8.266667e+05\n",
       "43    7.600000e+05\n",
       "44    1.265000e+06\n",
       "45    3.699231e+05\n",
       "46    2.864286e+05\n",
       "47    1.200000e+06\n",
       "48    5.562500e+05\n",
       "49    7.328000e+05\n",
       "50    4.000000e+05\n",
       "51    1.610000e+06\n",
       "54    6.662500e+05\n",
       "55    8.300000e+05\n",
       "56    3.100000e+05\n",
       "57    5.200000e+05\n",
       "Name: 賃料, dtype: float64"
      ]
     },
     "execution_count": 31,
     "metadata": {},
     "output_type": "execute_result"
    }
   ],
   "source": [
    "df.groupby('階数').mean()['賃料']"
   ]
  },
  {
   "cell_type": "code",
   "execution_count": 61,
   "id": "a538d5dd",
   "metadata": {},
   "outputs": [],
   "source": [
    "ward_prices=df.groupby('23区').mean()['賃料']\n",
    "wards=[]\n",
    "prices=[]\n",
    "\n",
    "for i,w in enumerate(ward_prices.keys()):\n",
    "    wards.append(w)\n",
    "    prices.append(ward_prices.values[i])\n",
    "#     print(i, ward_prices.values)"
   ]
  },
  {
   "cell_type": "code",
   "execution_count": 43,
   "id": "b5772105",
   "metadata": {},
   "outputs": [],
   "source": [
    "?plt.barh"
   ]
  },
  {
   "cell_type": "code",
   "execution_count": 63,
   "id": "ce132d11",
   "metadata": {},
   "outputs": [
    {
     "data": {
      "image/png": "[encoded data removed]",
      "text/plain": [
       "<Figure size 432x288 with 1 Axes>"
      ]
     },
     "metadata": {
      "needs_background": "light"
     },
     "output_type": "display_data"
    }
   ],
   "source": [
    "plt.barh(y=wards, width=prices)\n",
    "plt.title('23区別の賃料の平均')\n",
    "plt.show()"
   ]
  },
  {
   "cell_type": "code",
   "execution_count": 48,
   "id": "df52f337",
   "metadata": {},
   "outputs": [
    {
     "data": {
      "text/html": [
       "<div>\n",
       "<style scoped>\n",
       "    .dataframe tbody tr th:only-of-type {\n",
       "        vertical-align: middle;\n",
       "    }\n",
       "\n",
       "    .dataframe tbody tr th {\n",
       "        vertical-align: top;\n",
       "    }\n",
       "\n",
       "    .dataframe thead th {\n",
       "        text-align: right;\n",
       "    }\n",
       "</style>\n",
       "<table border=\"1\" class=\"dataframe\">\n",
       "  <thead>\n",
       "    <tr style=\"text-align: right;\">\n",
       "      <th></th>\n",
       "      <th>23区</th>\n",
       "      <th>賃料</th>\n",
       "    </tr>\n",
       "  </thead>\n",
       "  <tbody>\n",
       "    <tr>\n",
       "      <th>0</th>\n",
       "      <td>品川区</td>\n",
       "      <td>108975.687399</td>\n",
       "    </tr>\n",
       "    <tr>\n",
       "      <th>1</th>\n",
       "      <td>新宿区</td>\n",
       "      <td>121618.950495</td>\n",
       "    </tr>\n",
       "    <tr>\n",
       "      <th>2</th>\n",
       "      <td>渋谷区</td>\n",
       "      <td>151663.570827</td>\n",
       "    </tr>\n",
       "    <tr>\n",
       "      <th>3</th>\n",
       "      <td>港区</td>\n",
       "      <td>195698.248597</td>\n",
       "    </tr>\n",
       "    <tr>\n",
       "      <th>4</th>\n",
       "      <td>目黒区</td>\n",
       "      <td>117423.389720</td>\n",
       "    </tr>\n",
       "  </tbody>\n",
       "</table>\n",
       "</div>"
      ],
      "text/plain": [
       "   23区             賃料\n",
       "0  品川区  108975.687399\n",
       "1  新宿区  121618.950495\n",
       "2  渋谷区  151663.570827\n",
       "3   港区  195698.248597\n",
       "4  目黒区  117423.389720"
      ]
     },
     "execution_count": 48,
     "metadata": {},
     "output_type": "execute_result"
    }
   ],
   "source": [
    "ward_price=pd.DataFrame()\n",
    "ward_price['23区']=wards\n",
    "ward_price['賃料']=prices\n",
    "ward_price"
   ]
  },
  {
   "cell_type": "code",
   "execution_count": null,
   "id": "f03ad4c0",
   "metadata": {},
   "outputs": [],
   "source": []
  },
  {
   "cell_type": "code",
   "execution_count": null,
   "id": "527a5221",
   "metadata": {},
   "outputs": [],
   "source": []
  }
 ],
 "metadata": {
  "kernelspec": {
   "display_name": "Python 3 (ipykernel)",
   "language": "python",
   "name": "python3"
  },
  "language_info": {
   "codemirror_mode": {
    "name": "ipython",
    "version": 3
   },
   "file_extension": ".py",
   "mimetype": "text/x-python",
   "name": "python",
   "nbconvert_exporter": "python",
   "pygments_lexer": "ipython3",
   "version": "3.9.12"
  }
 },
 "nbformat": 4,
 "nbformat_minor": 5
}
